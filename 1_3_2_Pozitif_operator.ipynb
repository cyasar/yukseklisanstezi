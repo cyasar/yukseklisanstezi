{
 "cells": [
  {
   "cell_type": "code",
   "execution_count": 1,
   "id": "969dea55-4c80-4e9b-aca2-6d388370e549",
   "metadata": {
    "tags": []
   },
   "outputs": [
    {
     "name": "stdout",
     "output_type": "stream",
     "text": [
      "Measurement Results: [3, 0, 1, 0, 3, 3, 3, 3, 3, 3, 1, 3, 3, 3, 3, 3, 1, 0, 3, 3, 3, 3, 3, 3, 3, 3, 3, 3, 3, 3, 1, 0, 3, 3, 3, 2, 1, 3, 0, 3, 3, 3, 0, 3, 3, 3, 0, 3, 3, 3, 3, 3, 3, 3, 3, 3, 3, 3, 3, 3, 3, 3, 3, 3, 3, 3, 3, 3, 0, 3, 3, 3, 3, 3, 3, 3, 3, 3, 3, 3, 0, 3, 3, 3, 3, 3, 3, 1, 3, 1, 0, 3, 3, 1, 0, 3, 0, 3, 3, 3, 0, 3, 3, 0, 3, 3, 3, 3, 3, 3, 3, 3, 0, 3, 3, 3, 3, 3, 2, 3, 3, 3, 3, 0, 3, 0, 3, 1, 3, 3, 3, 3, 3, 3, 3, 3, 0, 3, 3, 3, 0, 3, 0, 3, 3, 3, 3, 0, 3, 3, 3, 0, 3, 3, 3, 3, 3, 3, 3, 2, 3, 3, 2, 3, 1, 3, 0, 3, 3, 1, 1, 1, 3, 3, 3, 0, 0, 3, 3, 3, 3, 0, 3, 1, 3, 3, 3, 3, 3, 3, 3, 3, 3, 3, 3, 3, 3, 3, 3, 3, 3, 3, 3, 3, 3, 3, 3, 0, 3, 3, 0, 3, 3, 0, 3, 2, 1, 0, 3, 3, 3, 3, 3, 3, 3, 3, 3, 3, 3, 3, 3, 3, 3, 2, 1, 0, 3, 0, 3, 3, 0, 3, 3, 3, 3, 3, 3, 3, 3, 2, 3, 3, 1, 0, 3, 3, 3, 3, 3, 3, 0, 3, 3, 3, 3, 3, 3, 3, 3, 3, 3, 3, 0, 3, 3, 3, 3, 3, 3, 3, 3, 3, 3, 1, 3, 3, 3, 3, 3, 3, 0, 3, 3, 3, 3, 0, 3, 3, 3, 3, 2, 1, 3, 3, 3, 3, 3, 3, 3, 3, 3, 3, 3, 3, 3, 3, 3, 3, 3, 3, 3, 3, 0, 0, 3, 3, 3, 3, 3, 3, 3, 0, 0, 3, 3, 3, 0, 3, 3, 3, 0, 1, 1, 3, 3, 2, 0, 3, 3, 3, 3, 3, 0, 3, 3, 1, 1, 3, 3, 3, 3, 3, 3, 3, 3, 3, 1, 0, 3, 3, 3, 3, 1, 3, 3, 3, 3, 3, 3, 3, 3, 3, 3, 1, 3, 3, 0, 3, 0, 3, 3, 3, 1, 0, 3, 0, 0, 3, 3, 3, 0, 3, 3, 3, 3, 3, 3, 3, 3, 3, 1, 3, 3, 3, 3, 3, 3, 3, 3, 3, 3, 0, 3, 1, 3, 3, 3, 3, 3, 3, 3, 3, 3, 3, 0, 3, 0, 1, 3, 3, 3, 3, 3, 3, 3, 3, 3, 0, 1, 3, 3, 3, 3, 3, 3, 3, 0, 3, 3, 3, 3, 3, 3, 3, 3, 0, 1, 3, 3, 3, 0, 3, 3, 3, 3, 3, 3, 3, 3, 3, 3, 3, 3, 3, 3, 3, 3, 3, 3, 3, 1, 3, 3, 3, 3, 3, 3, 3, 3, 3, 3, 0, 0, 3, 0, 3, 3, 3, 3, 3, 3, 3, 3, 3, 3, 3, 3, 3, 1, 0, 3, 0, 0, 3, 3, 3, 0, 3, 0, 3, 0, 3, 3, 3, 3, 3, 3, 3, 3, 3, 3, 3, 0, 3, 3, 3, 3, 3, 0, 3, 3, 3, 1, 2, 3, 3, 3, 3, 3, 3, 3, 3, 3, 3, 0, 3, 3, 3, 3, 3, 0, 3, 3, 3, 3, 3, 3, 3, 3, 3, 3]\n"
     ]
    },
    {
     "data": {
      "image/png": "[encoded data removed]",
      "text/plain": [
       "<Figure size 432x288 with 1 Axes>"
      ]
     },
     "metadata": {
      "needs_background": "light"
     },
     "output_type": "display_data"
    }
   ],
   "source": [
    "import numpy as np\n",
    "import matplotlib.pyplot as plt\n",
    "from qutip import *\n",
    "\n",
    "# Qutrit sisteminde temel durumları tanımla |0>, |1>, |2>\n",
    "basis0 = basis(3, 0)\n",
    "basis1 = basis(3, 1)\n",
    "basis2 = basis(3, 2)\n",
    "\n",
    "# Ölçülecek durumu tanımla (|0> + |1> + |2>)/√3\n",
    "state = (basis0 + basis1 + basis2).unit()\n",
    "\n",
    "# POVM elemanlarını tanımla\n",
    "E0 = (1/2) * basis0 * basis0.dag()\n",
    "E1 = (1/3) * basis1 * basis1.dag()\n",
    "E2 = (1/6) * basis2 * basis2.dag()\n",
    "E3 = qeye(3) - E0 - E1 - E2  # Son POVM elemanı, ölçümlerin toplamının birim operatör olmasını sağlar\n",
    "\n",
    "# POVM elemanlarının listesini oluştur\n",
    "POVM_elements = [E0, E1, E2, E3]\n",
    "\n",
    "# Monte Carlo simülasyonu için ölçüm sayısını belirle\n",
    "num_measurements = 1000\n",
    "results = []\n",
    "\n",
    "# Ölçümleri gerçekleştir ve sonuçları kaydet\n",
    "for _ in range(num_measurements):\n",
    "    rand_val = np.random.rand()\n",
    "    cumulative_prob = 0\n",
    "    for i, E in enumerate(POVM_elements):\n",
    "        cumulative_prob += (E * state).norm()**2\n",
    "        if rand_val < cumulative_prob:\n",
    "            results.append(i)\n",
    "            break\n",
    "\n",
    "# Ölçüm sonuçlarını yazdır\n",
    "print(\"Measurement Results:\", results)\n",
    "\n",
    "# Histogramı çiz\n",
    "plt.hist(results, bins=np.arange(5)-0.5, edgecolor='black', alpha=0.7)\n",
    "plt.xticks(range(4), ['E0', 'E1', 'E2', 'E3'])\n",
    "plt.xlabel('Measurement Outcome')\n",
    "plt.ylabel('Frequency')\n",
    "plt.title('POVM Measurement Outcomes')\n",
    "plt.show()\n"
   ]
  },
  {
   "cell_type": "code",
   "execution_count": null,
   "id": "b1869414-c140-4d70-8709-49cf5a65f4d3",
   "metadata": {},
   "outputs": [],
   "source": []
  }
 ],
 "metadata": {
  "kernelspec": {
   "display_name": "Python 3 (ipykernel)",
   "language": "python",
   "name": "python3"
  },
  "language_info": {
   "codemirror_mode": {
    "name": "ipython",
    "version": 3
   },
   "file_extension": ".py",
   "mimetype": "text/x-python",
   "name": "python",
   "nbconvert_exporter": "python",
   "pygments_lexer": "ipython3",
   "version": "3.10.12"
  }
 },
 "nbformat": 4,
 "nbformat_minor": 5
}
