{
 "cells": [
  {
   "cell_type": "code",
   "execution_count": 1,
   "id": "f0dc475a-6725-44b7-bde1-1be86f58ce75",
   "metadata": {},
   "outputs": [
    {
     "name": "stdout",
     "output_type": "stream",
     "text": [
      "Mode 0: mu = 0.2453, sigma = -0.8477\n",
      "Mode 1: mu = 0.8525, sigma = 1.4767\n",
      "Mode 2: mu = -0.6708, sigma = 0.4830\n",
      "Mode 3: mu = 2.1859, sigma = 1.1691\n"
     ]
    }
   ],
   "source": [
    "import numpy as np\n",
    "\n",
    "# Kuantum sürekli değişken durumunu temsil etmek için bir Gauss modu tanımlama\n",
    "class GaussianMode:\n",
    "    def __init__(self, mu, sigma):\n",
    "        self.mu = mu\n",
    "        self.sigma = sigma\n",
    "\n",
    "def cv_qft(gaussian_modes):\n",
    "    n_modes = len(gaussian_modes)\n",
    "    \n",
    "    transformed_modes = []\n",
    "    for k in range(n_modes):\n",
    "        new_mu = 0\n",
    "        new_sigma = 0\n",
    "        \n",
    "        for j in range(n_modes):\n",
    "            new_mu += gaussian_modes[j].mu * np.cos(2 * np.pi * j * k / n_modes) - gaussian_modes[j].sigma * np.sin(2 * np.pi * j * k / n_modes)\n",
    "            new_sigma += gaussian_modes[j].mu * np.sin(2 * np.pi * j * k / n_modes) + gaussian_modes[j].sigma * np.cos(2 * np.pi * j * k / n_modes)\n",
    "        \n",
    "        new_mu /= np.sqrt(n_modes)\n",
    "        new_sigma /= np.sqrt(n_modes)\n",
    "        \n",
    "        transformed_modes.append(GaussianMode(new_mu, new_sigma))\n",
    "    \n",
    "    return transformed_modes\n",
    "\n",
    "n_modes = 4\n",
    "gaussian_modes = [GaussianMode(np.random.normal(), np.random.normal()) for _ in range(n_modes)]\n",
    "\n",
    "transformed_modes = cv_qft(gaussian_modes)\n",
    "\n",
    "for i, mode in enumerate(transformed_modes):\n",
    "    print(f\"Mode {i}: mu = {mode.mu:.4f}, sigma = {mode.sigma:.4f}\")\n"
   ]
  },
  {
   "cell_type": "code",
   "execution_count": null,
   "id": "a34fce06-09b8-4323-85ab-c2e4fcefb32e",
   "metadata": {},
   "outputs": [],
   "source": []
  }
 ],
 "metadata": {
  "kernelspec": {
   "display_name": "Python 3 (ipykernel)",
   "language": "python",
   "name": "python3"
  },
  "language_info": {
   "codemirror_mode": {
    "name": "ipython",
    "version": 3
   },
   "file_extension": ".py",
   "mimetype": "text/x-python",
   "name": "python",
   "nbconvert_exporter": "python",
   "pygments_lexer": "ipython3",
   "version": "3.10.12"
  }
 },
 "nbformat": 4,
 "nbformat_minor": 5
}
