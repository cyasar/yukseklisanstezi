{
 "cells": [
  {
   "cell_type": "code",
   "execution_count": 1,
   "id": "da27f6f0-4e9d-4171-99aa-2591e1543c12",
   "metadata": {},
   "outputs": [
    {
     "name": "stdout",
     "output_type": "stream",
     "text": [
      "[ 2.50000000e-01 -1.11022302e-16 -3.26640741e-01]\n"
     ]
    }
   ],
   "source": [
    "import pennylane as qml\n",
    "from pennylane import numpy as np\n",
    "\n",
    "# Define the number of qubits\n",
    "num_qubits = 3\n",
    "\n",
    "# Define the quantum device and the qnode function\n",
    "dev = qml.device(\"default.qubit\", wires=num_qubits)\n",
    "\n",
    "@qml.qnode(dev)\n",
    "def quantum_fourier_transform(x):\n",
    "    # Apply Hadamard gates to all qubits\n",
    "    for i in range(num_qubits):\n",
    "        qml.Hadamard(wires=i)\n",
    "    \n",
    "    # Apply controlled phase gates\n",
    "    for i in range(num_qubits):\n",
    "        for j in range(i):\n",
    "            qml.CRot(2*np.pi/2**(i-j), 0, 0, wires=[i,j])\n",
    "    \n",
    "    # Apply inverse quantum Fourier transform\n",
    "    for i in range(num_qubits):\n",
    "        qml.Hadamard(wires=i)\n",
    "        for j in range(i+1, num_qubits):\n",
    "            \n",
    "            qml.CRot(0, -np.pi/2**(j-i), 0, wires=[j,i])\n",
    "    \n",
    "    # Measure the qubits\n",
    "    return [qml.expval(qml.PauliZ(i)) for i in range(num_qubits)]\n",
    "\n",
    "# Define the input vector\n",
    "x = np.array([0.2, 0.4, 0.6])\n",
    "\n",
    "# Run the quantum Fourier transform\n",
    "result = quantum_fourier_transform(x)\n",
    "\n",
    "# Print the result\n",
    "print(result)\n"
   ]
  },
  {
   "cell_type": "code",
   "execution_count": null,
   "id": "0cd551e7-602c-4a1b-83b7-871bf1eb4d0e",
   "metadata": {},
   "outputs": [],
   "source": []
  }
 ],
 "metadata": {
  "kernelspec": {
   "display_name": "Python 3",
   "language": "python",
   "name": "python3"
  },
  "language_info": {
   "codemirror_mode": {
    "name": "ipython",
    "version": 3
   },
   "file_extension": ".py",
   "mimetype": "text/x-python",
   "name": "python",
   "nbconvert_exporter": "python",
   "pygments_lexer": "ipython3",
   "version": "3.8.5"
  }
 },
 "nbformat": 4,
 "nbformat_minor": 5
}
