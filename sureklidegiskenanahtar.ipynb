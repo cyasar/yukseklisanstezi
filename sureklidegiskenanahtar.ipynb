{
 "cells": [
  {
   "cell_type": "code",
   "execution_count": 2,
   "id": "d3f5f576-d165-47e4-a105-6f26d11ddc12",
   "metadata": {},
   "outputs": [
    {
     "name": "stdout",
     "output_type": "stream",
     "text": [
      "Rastgele Anahtar: [0 1 1 1 0 0 1 1 1 1 0 0 0 1 0 0 1 0 1 1 0 0 0 0 1 1 0 0 0 0 1 0 1 1 1 1 0\n",
      " 0 1 0 0 0 0 1 0 0 1 0 1 1 0 0 1 0 0 1 1 1 1 1 1 1 0 1 1 0 1 1 0 1 0 1 1 1\n",
      " 1 1 0 1 0 1 0 0 1 1 0 1 1 1 0 0 1 1 1 1 0 0 1 0 1 0 0 1 1 0 0 1 1 0 0 0 1\n",
      " 1 1 0 1 0 0 0 0 1 1 1 1 1 1 0 0 1 1 1 0 1 1 0 0 1 0 1 1 0 0 1 0 0 1 1 0 1\n",
      " 0 1 1 1 0 0 1 1 1 1 0 1 1 1 1 1 1 1 1 1 1 0 0 0 0 1 1 1 1 0 0 0 0 0 1 0 1\n",
      " 1 0 0 0 0 0 1 1 1 0 1 1 0 1 1 1 1 1 0 0 1 0 0 1 1 1 0 0 1 0 0 0 0 0 0 1 0\n",
      " 1 0 0 0 1 0 0 0 1 0 0 0 1 1 1 1 1 0 0 0 0 0 0 0 0 0 1 0 0 1 1 0 1 1 0 0 1\n",
      " 1 1 1 1 1 0 1 1 0 0 0 1 0 1 1 0 0 1 1 0 0 0 0 0 1 1 0 0 0 0 0 0 0 1 0 0 0\n",
      " 1 0 1 0 1 0 1 0 0 1 0 0 1 0 0 0 0 0 0 1 0 1 0 1 0 1 0 0 0 0 1 1 0 1 1 1 0\n",
      " 0 1 1 1 1 0 1 1 1 1 1 1 0 1 0 0 1 1 0 0 0 1 1 1 1 1 1 1 0 1 0 0 0 1 1 0 1\n",
      " 0 1 0 1 0 0 1 0 1 1 1 0 1 0 1 1 1 0 0 1 1 1 1 1 0 1 0 1 0 1 0 0 0 1 1 0 0\n",
      " 1 0 0 0 0 0 0 0 0 0 0 0 0 1 0 0 1 1 0 1 1 0 0 1 0 1 0 1 0 1 0 1 1 1 1 1 1\n",
      " 0 0 0 0 0 0 0 1 0 1 1 1 0 0 0 1 1 0 0 0 0 0 0 0 1 0 0 0 0 1 0 0 0 0 1 1 1\n",
      " 0 0 0 1 1 1 0 1 1 0 0 1 1 1 0 0 0 1 1 0 0 0 1 1 0 0 1 0 0 1 0]\n"
     ]
    }
   ],
   "source": [
    "import numpy as np\n",
    "\n",
    "def generate_quadratures(n_samples):\n",
    "    # Simüle edilmiş sürekli değişkenlerin rastgele pozisyon ve momentum bileşenleri\n",
    "    positions = np.random.normal(0, 1, n_samples)\n",
    "    momenta = np.random.normal(0, 1, n_samples)\n",
    "    \n",
    "    return positions, momenta\n",
    "\n",
    "def discretize_quadratures(positions, momenta, n_bits):\n",
    "    # Pozisyon ve momentum bileşenlerini ikili anahtarlara dönüştürme\n",
    "    positions_discretized = (positions > 0).astype(int)\n",
    "    momenta_discretized = (momenta > 0).astype(int)\n",
    "    \n",
    "    key = np.zeros(n_samples * 2, dtype=int)\n",
    "    key[::2] = positions_discretized\n",
    "    key[1::2] = momenta_discretized\n",
    "    \n",
    "    return key\n",
    "\n",
    "def quantum_random_key_generator(n_samples, n_bits):\n",
    "    positions, momenta = generate_quadratures(n_samples)\n",
    "    random_key = discretize_quadratures(positions, momenta, n_bits)\n",
    "    \n",
    "    return random_key\n",
    "\n",
    "n_samples = 256\n",
    "n_bits = 5\n",
    "\n",
    "random_key = quantum_random_key_generator(n_samples, n_bits)\n",
    "print(f\"Rastgele Anahtar: {random_key}\")\n"
   ]
  },
  {
   "cell_type": "code",
   "execution_count": null,
   "id": "16cde9ff-1898-466b-b81c-184e2730bf12",
   "metadata": {},
   "outputs": [],
   "source": []
  }
 ],
 "metadata": {
  "kernelspec": {
   "display_name": "Python 3",
   "language": "python",
   "name": "python3"
  },
  "language_info": {
   "codemirror_mode": {
    "name": "ipython",
    "version": 3
   },
   "file_extension": ".py",
   "mimetype": "text/x-python",
   "name": "python",
   "nbconvert_exporter": "python",
   "pygments_lexer": "ipython3",
   "version": "3.8.5"
  }
 },
 "nbformat": 4,
 "nbformat_minor": 5
}
