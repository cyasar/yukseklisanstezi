{
 "cells": [
  {
   "cell_type": "code",
   "execution_count": 1,
   "id": "2543e3d4-2c81-49c0-bfc5-645624a4fd4d",
   "metadata": {
    "tags": []
   },
   "outputs": [
    {
     "name": "stdout",
     "output_type": "stream",
     "text": [
      "Expectation value of I: 0.9999999999999998\n",
      "Expectation value of X: 0.9999999999999998\n",
      "Expectation value of Y: 0.0\n",
      "Expectation value of Z: 0.0\n"
     ]
    },
    {
     "data": {
      "image/png": "[encoded data removed]",
      "text/plain": [
       "<Figure size 1296x360 with 3 Axes>"
      ]
     },
     "metadata": {
      "needs_background": "light"
     },
     "output_type": "display_data"
    }
   ],
   "source": [
    "import numpy as np\n",
    "import matplotlib.pyplot as plt\n",
    "from qutip import *\n",
    "\n",
    "# Qubit sisteminde temel durumları tanımla |0> ve |1>\n",
    "basis0 = basis(2, 0)\n",
    "basis1 = basis(2, 1)\n",
    "\n",
    "# Ölçülecek durumu tanımla (|0> + |1>)/√2\n",
    "state = (basis0 + basis1).unit()\n",
    "\n",
    "# Yoğunluk matrisini oluştur\n",
    "density_matrix = ket2dm(state)\n",
    "\n",
    "# İz operatörleri (Pauli matrisleri)\n",
    "I = qeye(2)  # Kimlik matrisi\n",
    "X = sigmax()  # Pauli X matrisi\n",
    "Y = sigmay()  # Pauli Y matrisi\n",
    "Z = sigmaz()  # Pauli Z matrisi\n",
    "\n",
    "# İz operatörlerinin beklenti değerlerini hesapla\n",
    "expect_I = expect(I, density_matrix)\n",
    "expect_X = expect(X, density_matrix)\n",
    "expect_Y = expect(Y, density_matrix)\n",
    "expect_Z = expect(Z, density_matrix)\n",
    "\n",
    "# Sonuçları yazdır\n",
    "print(\"Expectation value of I:\", expect_I)\n",
    "print(\"Expectation value of X:\", expect_X)\n",
    "print(\"Expectation value of Y:\", expect_Y)\n",
    "print(\"Expectation value of Z:\", expect_Z)\n",
    "\n",
    "# Monte Carlo simülasyonu için ölçüm sayısını belirle\n",
    "num_measurements = 1000\n",
    "X_results = []\n",
    "Y_results = []\n",
    "Z_results = []\n",
    "\n",
    "# Ölçümleri gerçekleştir ve sonuçları kaydet\n",
    "for _ in range(num_measurements):\n",
    "    X_results.append(np.random.choice([1, -1], p=[(1 + expect_X) / 2, (1 - expect_X) / 2]))\n",
    "    Y_results.append(np.random.choice([1, -1], p=[(1 + expect_Y) / 2, (1 - expect_Y) / 2]))\n",
    "    Z_results.append(np.random.choice([1, -1], p=[(1 + expect_Z) / 2, (1 - expect_Z) / 2]))\n",
    "\n",
    "# Histogramları çiz\n",
    "plt.figure(figsize=(18, 5))\n",
    "\n",
    "plt.subplot(1, 3, 1)\n",
    "plt.hist(X_results, bins=2, edgecolor='black', alpha=0.7)\n",
    "plt.xticks([0.25, 1.0], ['-1', '1'])\n",
    "plt.xlabel('Measurement Outcome')\n",
    "plt.ylabel('Frequency')\n",
    "plt.title('Pauli X Measurement Outcomes')\n",
    "\n",
    "plt.subplot(1, 3, 2)\n",
    "plt.hist(Y_results, bins=2, edgecolor='black', alpha=0.7)\n",
    "plt.xticks([0.25, 1.0], ['-1', '1'])\n",
    "plt.xlabel('Measurement Outcome')\n",
    "plt.ylabel('Frequency')\n",
    "plt.title('Pauli Y Measurement Outcomes')\n",
    "\n",
    "plt.subplot(1, 3, 3)\n",
    "plt.hist(Z_results, bins=2, edgecolor='black', alpha=0.7)\n",
    "plt.xticks([0.25, 1.0], ['-1', '1'])\n",
    "plt.xlabel('Measurement Outcome')\n",
    "plt.ylabel('Frequency')\n",
    "plt.title('Pauli Z Measurement Outcomes')\n",
    "\n",
    "plt.tight_layout()\n",
    "plt.show()\n"
   ]
  },
  {
   "cell_type": "code",
   "execution_count": null,
   "id": "32a3fb43-b682-4197-b594-c108bc7980ba",
   "metadata": {},
   "outputs": [],
   "source": []
  }
 ],
 "metadata": {
  "kernelspec": {
   "display_name": "Python 3 (ipykernel)",
   "language": "python",
   "name": "python3"
  },
  "language_info": {
   "codemirror_mode": {
    "name": "ipython",
    "version": 3
   },
   "file_extension": ".py",
   "mimetype": "text/x-python",
   "name": "python",
   "nbconvert_exporter": "python",
   "pygments_lexer": "ipython3",
   "version": "3.10.12"
  }
 },
 "nbformat": 4,
 "nbformat_minor": 5
}
