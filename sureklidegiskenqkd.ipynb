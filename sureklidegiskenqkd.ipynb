{
 "cells": [
  {
   "cell_type": "code",
   "execution_count": 1,
   "id": "5e02a9dc-6611-456c-bfd3-f81ad114bd50",
   "metadata": {},
   "outputs": [
    {
     "name": "stdout",
     "output_type": "stream",
     "text": [
      "Alice's key:  [0, 0, 0, 0, 0, 0, 0, 0, 1, 0, 0, 1, 0, 0, 0, 0, 0, 1, 0, 0, 1, 0, 0, 1, 0, 0, 0, 0, 0, 0, 0, 0, 0, 0, 0, 0, 0, 0, 0, 0, 0, 0, 0, 0, 0, 0, 0, 0, 0, 0, 0, 0, 0, 0, 0, 0, 0, 0, 0, 0, 0, 0, 0, 0, 0, 0, 0, 0, 0, 0, 0, 0, 0, 0, 0, 0, 0, 0, 0, 0, 0, 0, 0, 0, 0, 0, 0, 0, 0, 0, 0, 0, 0, 0, 0, 0, 0, 0, 0, 0]\n",
      "Bob's key:  [0, 0, 0, 0, 0, 0, 0, 0, 0, 0, 0, 0, 0, 0, 0, 0, 0, 0, 0, 0, 0, 0, 0, 0, 0, 0, 0, 0, 0, 0, 0, 0, 0, 0, 0, 0, 0, 0, 0, 0, 0, 0, 0, 0, 0, 0, 0, 0, 0, 0, 0, 0, 0, 0, 0, 0, 0, 0, 0, 0, 0, 0, 0, 0, 0, 0, 0, 0, 0, 0, 0, 0, 0, 0, 0, 0, 0, 0, 0, 0, 0, 0, 0, 0, 0, 0, 0, 0, 0, 0, 0, 0, 0, 0, 0, 0, 0, 0, 0, 0]\n",
      "Number of matched bits:  95\n"
     ]
    }
   ],
   "source": [
    "from qiskit import Aer, execute\n",
    "from qiskit.visualization import plot_histogram\n",
    "from qiskit.circuit import QuantumCircuit\n",
    "from qiskit.quantum_info.random import random_unitary\n",
    "import numpy as np\n",
    "\n",
    "# Bob ve Alice arasındaki iletişim kanalı\n",
    "channel = Aer.get_backend('qasm_simulator')\n",
    "\n",
    "# Bob ve Alice'ın sistemlerinin boyutu\n",
    "dim = 3\n",
    "\n",
    "# Anahtarın boyutu\n",
    "key_size = 100\n",
    "\n",
    "# Alice'ın hazırladığı kuantum durumu\n",
    "circuit = QuantumCircuit(dim, dim)\n",
    "circuit.h(0)\n",
    "circuit.p(np.pi/8, 0)\n",
    "circuit.h(0)\n",
    "circuit.p(-np.pi/8, 0)\n",
    "circuit.h(0)\n",
    "circuit.p(np.pi/8, 0)\n",
    "circuit.h(0)\n",
    "circuit.barrier()\n",
    "circuit.draw(output='mpl')\n",
    "\n",
    "# Bob'un ölçümleri\n",
    "measurements = QuantumCircuit(dim, dim)\n",
    "measurements.h(0)\n",
    "measurements.p(np.pi/8, 0)\n",
    "measurements.h(0)\n",
    "measurements.p(-np.pi/8, 0)\n",
    "measurements.h(0)\n",
    "measurements.p(np.pi/8, 0)\n",
    "measurements.h(0)\n",
    "measurements.measure_all()\n",
    "measurements.draw(output='mpl')\n",
    "\n",
    "def generate_key(qc, channel, key_size):\n",
    "    key = []\n",
    "    for i in range(key_size):\n",
    "        qc.measure_all()\n",
    "        result = execute(qc, channel, shots=1).result()\n",
    "        counts = result.get_counts(qc)\n",
    "        bit_string = list(counts.keys())[0].replace(' ', '')\n",
    "        bit_list = [int(bit) for bit in bit_string]\n",
    "        key.extend(bit_list)\n",
    "    return key[:key_size]\n",
    "\n",
    "# Anahtarları oluşturma\n",
    "alice_key = generate_key(circuit, channel, key_size)\n",
    "bob_key = generate_key(measurements, channel, key_size)\n",
    "\n",
    "# Anahtarların karşılaştırılması\n",
    "matched_bits = 0\n",
    "for i in range(key_size):\n",
    "    if alice_key[i] == bob_key[i]:\n",
    "        matched_bits += 1\n",
    "\n",
    "print(\"Alice's key: \", alice_key)\n",
    "print(\"Bob's key: \", bob_key)\n",
    "print(\"Number of matched bits: \", matched_bits)\n"
   ]
  },
  {
   "cell_type": "code",
   "execution_count": null,
   "id": "c0c44208-aede-4c40-9b5b-9b593104f264",
   "metadata": {},
   "outputs": [],
   "source": []
  }
 ],
 "metadata": {
  "kernelspec": {
   "display_name": "Python 3",
   "language": "python",
   "name": "python3"
  },
  "language_info": {
   "codemirror_mode": {
    "name": "ipython",
    "version": 3
   },
   "file_extension": ".py",
   "mimetype": "text/x-python",
   "name": "python",
   "nbconvert_exporter": "python",
   "pygments_lexer": "ipython3",
   "version": "3.8.5"
  }
 },
 "nbformat": 4,
 "nbformat_minor": 5
}
